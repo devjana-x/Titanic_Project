{
 "cells": [
  {
   "cell_type": "markdown",
   "id": "183ff39e",
   "metadata": {},
   "source": [
    "Project: Predicting Titanic Survivors 🚢\n",
    "\n",
    "🧠 Project Goal:\n",
    "Build a machine learning model that predicts whether a passenger survived the Titanic disaster based on features such as age, sex, ticket class, and more.\n",
    "\n",
    "This project aims to build a machine learning model that predicts whether a passenger survived the Titanic disaster using features such as age, sex, ticket class, and more.\n",
    "\n",
    "We will go through:\n",
    "- Data exploration and visualization\n",
    "- Data cleaning and preprocessing\n",
    "- Model training and evaluation\n",
    "- Generating final predictions for unseen test data"
   ]
  },
  {
   "cell_type": "code",
   "execution_count": 1,
   "id": "dc92cc33",
   "metadata": {},
   "outputs": [],
   "source": [
    "#Import Required Libraries\n",
    "import pandas as pd\n",
    "import numpy as np\n",
    "import matplotlib.pyplot as plt\n",
    "import seaborn as sns\n",
    "\n",
    "from sklearn.model_selection import train_test_split, GridSearchCV\n",
    "from sklearn.preprocessing import LabelEncoder, StandardScaler\n",
    "from sklearn.ensemble import RandomForestClassifier\n",
    "from sklearn.linear_model import LogisticRegression\n",
    "from sklearn.metrics import accuracy_score, confusion_matrix, classification_report"
   ]
  },
  {
   "cell_type": "markdown",
   "id": "42cfd838",
   "metadata": {},
   "source": [
    "📦 Dataset:\n",
    "Titanic Dataset on Kaggle: no wo\n",
    "Contains two files:\n",
    "\n",
    "train.csv: With labels (Survived: 0 = No, 1 = Yes)\n",
    "\n",
    "test.csv: Without labels (used for final prediction submission)\n",
    "\n",
    "We load both the training and test datasets using pandas. The training set contains the target variable Survived, while the test set is used to make final predictions for submission.\n"
   ]
  },
  {
   "cell_type": "code",
   "execution_count": 62,
   "id": "9a409226",
   "metadata": {},
   "outputs": [],
   "source": [
    "#Load the Data\n",
    "train_data = pd.read_csv('train.csv')\n",
    "test_data = pd.read_csv('test.csv')"
   ]
  },
  {
   "cell_type": "markdown",
   "id": "c5fa9003",
   "metadata": {},
   "source": [
    "📊 Input Features Include:\n",
    "Pclass: Ticket class (1st, 2nd, 3rd)\n",
    "\n",
    "Sex: Gender\n",
    "\n",
    "Age: Age in years\n",
    "\n",
    "SibSp: # of siblings/spouses aboard\n",
    "\n",
    "Parch: # of parents/children aboard\n",
    "\n",
    "Fare: Passenger fare\n",
    "\n",
    "Embarked: Port of Embarkation (C = Cherbourg, Q = Queenstown, S = Southampton)\n",
    "\n",
    "Cabin, Ticket, Name (can be engineered)\n",
    "\n",
    "Before we build any models, it's important to understand the data:\n",
    "- Look for missing values\n",
    "- Explore distributions\n",
    "- Identify relationships between features and the survival outcome\n"
   ]
  },
  {
   "cell_type": "code",
   "execution_count": 63,
   "id": "2eb4886d",
   "metadata": {},
   "outputs": [
    {
     "name": "stdout",
     "output_type": "stream",
     "text": [
      "<class 'pandas.core.frame.DataFrame'>\n",
      "RangeIndex: 891 entries, 0 to 890\n",
      "Data columns (total 12 columns):\n",
      " #   Column       Non-Null Count  Dtype  \n",
      "---  ------       --------------  -----  \n",
      " 0   PassengerId  891 non-null    int64  \n",
      " 1   Survived     891 non-null    int64  \n",
      " 2   Pclass       891 non-null    int64  \n",
      " 3   Name         891 non-null    object \n",
      " 4   Sex          891 non-null    object \n",
      " 5   Age          714 non-null    float64\n",
      " 6   SibSp        891 non-null    int64  \n",
      " 7   Parch        891 non-null    int64  \n",
      " 8   Ticket       891 non-null    object \n",
      " 9   Fare         891 non-null    float64\n",
      " 10  Cabin        204 non-null    object \n",
      " 11  Embarked     889 non-null    object \n",
      "dtypes: float64(2), int64(5), object(5)\n",
      "memory usage: 83.7+ KB\n"
     ]
    },
    {
     "data": {
      "text/html": [
       "<div>\n",
       "<style scoped>\n",
       "    .dataframe tbody tr th:only-of-type {\n",
       "        vertical-align: middle;\n",
       "    }\n",
       "\n",
       "    .dataframe tbody tr th {\n",
       "        vertical-align: top;\n",
       "    }\n",
       "\n",
       "    .dataframe thead th {\n",
       "        text-align: right;\n",
       "    }\n",
       "</style>\n",
       "<table border=\"1\" class=\"dataframe\">\n",
       "  <thead>\n",
       "    <tr style=\"text-align: right;\">\n",
       "      <th></th>\n",
       "      <th>PassengerId</th>\n",
       "      <th>Survived</th>\n",
       "      <th>Pclass</th>\n",
       "      <th>Age</th>\n",
       "      <th>SibSp</th>\n",
       "      <th>Parch</th>\n",
       "      <th>Fare</th>\n",
       "    </tr>\n",
       "  </thead>\n",
       "  <tbody>\n",
       "    <tr>\n",
       "      <th>count</th>\n",
       "      <td>891.000000</td>\n",
       "      <td>891.000000</td>\n",
       "      <td>891.000000</td>\n",
       "      <td>714.000000</td>\n",
       "      <td>891.000000</td>\n",
       "      <td>891.000000</td>\n",
       "      <td>891.000000</td>\n",
       "    </tr>\n",
       "    <tr>\n",
       "      <th>mean</th>\n",
       "      <td>446.000000</td>\n",
       "      <td>0.383838</td>\n",
       "      <td>2.308642</td>\n",
       "      <td>29.699118</td>\n",
       "      <td>0.523008</td>\n",
       "      <td>0.381594</td>\n",
       "      <td>32.204208</td>\n",
       "    </tr>\n",
       "    <tr>\n",
       "      <th>std</th>\n",
       "      <td>257.353842</td>\n",
       "      <td>0.486592</td>\n",
       "      <td>0.836071</td>\n",
       "      <td>14.526497</td>\n",
       "      <td>1.102743</td>\n",
       "      <td>0.806057</td>\n",
       "      <td>49.693429</td>\n",
       "    </tr>\n",
       "    <tr>\n",
       "      <th>min</th>\n",
       "      <td>1.000000</td>\n",
       "      <td>0.000000</td>\n",
       "      <td>1.000000</td>\n",
       "      <td>0.420000</td>\n",
       "      <td>0.000000</td>\n",
       "      <td>0.000000</td>\n",
       "      <td>0.000000</td>\n",
       "    </tr>\n",
       "    <tr>\n",
       "      <th>25%</th>\n",
       "      <td>223.500000</td>\n",
       "      <td>0.000000</td>\n",
       "      <td>2.000000</td>\n",
       "      <td>20.125000</td>\n",
       "      <td>0.000000</td>\n",
       "      <td>0.000000</td>\n",
       "      <td>7.910400</td>\n",
       "    </tr>\n",
       "    <tr>\n",
       "      <th>50%</th>\n",
       "      <td>446.000000</td>\n",
       "      <td>0.000000</td>\n",
       "      <td>3.000000</td>\n",
       "      <td>28.000000</td>\n",
       "      <td>0.000000</td>\n",
       "      <td>0.000000</td>\n",
       "      <td>14.454200</td>\n",
       "    </tr>\n",
       "    <tr>\n",
       "      <th>75%</th>\n",
       "      <td>668.500000</td>\n",
       "      <td>1.000000</td>\n",
       "      <td>3.000000</td>\n",
       "      <td>38.000000</td>\n",
       "      <td>1.000000</td>\n",
       "      <td>0.000000</td>\n",
       "      <td>31.000000</td>\n",
       "    </tr>\n",
       "    <tr>\n",
       "      <th>max</th>\n",
       "      <td>891.000000</td>\n",
       "      <td>1.000000</td>\n",
       "      <td>3.000000</td>\n",
       "      <td>80.000000</td>\n",
       "      <td>8.000000</td>\n",
       "      <td>6.000000</td>\n",
       "      <td>512.329200</td>\n",
       "    </tr>\n",
       "  </tbody>\n",
       "</table>\n",
       "</div>"
      ],
      "text/plain": [
       "       PassengerId    Survived      Pclass         Age       SibSp  \\\n",
       "count   891.000000  891.000000  891.000000  714.000000  891.000000   \n",
       "mean    446.000000    0.383838    2.308642   29.699118    0.523008   \n",
       "std     257.353842    0.486592    0.836071   14.526497    1.102743   \n",
       "min       1.000000    0.000000    1.000000    0.420000    0.000000   \n",
       "25%     223.500000    0.000000    2.000000   20.125000    0.000000   \n",
       "50%     446.000000    0.000000    3.000000   28.000000    0.000000   \n",
       "75%     668.500000    1.000000    3.000000   38.000000    1.000000   \n",
       "max     891.000000    1.000000    3.000000   80.000000    8.000000   \n",
       "\n",
       "            Parch        Fare  \n",
       "count  891.000000  891.000000  \n",
       "mean     0.381594   32.204208  \n",
       "std      0.806057   49.693429  \n",
       "min      0.000000    0.000000  \n",
       "25%      0.000000    7.910400  \n",
       "50%      0.000000   14.454200  \n",
       "75%      0.000000   31.000000  \n",
       "max      6.000000  512.329200  "
      ]
     },
     "execution_count": 63,
     "metadata": {},
     "output_type": "execute_result"
    }
   ],
   "source": [
    "#Exploratory Data Analysis (EDA)\n",
    "#Explore structure of the data\n",
    "train_data.head()\n",
    "train_data.info()\n",
    "train_data.describe()"
   ]
  },
  {
   "cell_type": "code",
   "execution_count": 64,
   "id": "0ef3055c",
   "metadata": {},
   "outputs": [],
   "source": [
    "#Check missing values\n",
    "missing_values = train_data.isnull().sum()\n"
   ]
  },
  {
   "cell_type": "code",
   "execution_count": 65,
   "id": "7b41e704",
   "metadata": {},
   "outputs": [
    {
     "data": {
      "image/png": "[encoded data removed]",
      "text/plain": [
       "<Figure size 640x480 with 1 Axes>"
      ]
     },
     "metadata": {},
     "output_type": "display_data"
    }
   ],
   "source": [
    "#Survival Rate overview\n",
    "sns.countplot(data=train_data, x='Survived')\n",
    "plt.title('Survival Count')\n",
    "plt.xlabel('Survived')\n",
    "plt.ylabel('Count')\n",
    "plt.show()"
   ]
  },
  {
   "cell_type": "code",
   "execution_count": 66,
   "id": "cf776d31",
   "metadata": {},
   "outputs": [
    {
     "data": {
      "text/plain": [
       "<Axes: xlabel='Pclass', ylabel='Survived'>"
      ]
     },
     "execution_count": 66,
     "metadata": {},
     "output_type": "execute_result"
    },
    {
     "data": {
      "image/png": "[encoded data removed]",
      "text/plain": [
       "<Figure size 640x480 with 1 Axes>"
      ]
     },
     "metadata": {},
     "output_type": "display_data"
    }
   ],
   "source": [
    "#Feature vs. Survival\":\n",
    "sns.barplot(data=train_data, x='Pclass', y='Survived')\n",
    "sns.barplot(data=train_data, x='Sex', y='Survived')\n",
    "sns.histplot(data=train_data, x='Age', hue='Survived', kde=True)\n"
   ]
  },
  {
   "cell_type": "markdown",
   "id": "218dbd45",
   "metadata": {},
   "source": [
    "Data Cleaning & Preprocessing🧹📊\n",
    "To prepare the dataset for machine learning:\n",
    "- Fill in missing values\n",
    "- Drop irrelevant or messy columns\n",
    "- Encode categorical variables\n",
    "- Create useful new features (e.g., extract titles or group ages)"
   ]
  },
  {
   "cell_type": "code",
   "execution_count": 67,
   "id": "efe02c13",
   "metadata": {},
   "outputs": [],
   "source": [
    "#Drop uncessary features\n",
    "train_data.drop(['PassengerId', 'Name', 'Ticket', 'Cabin'], axis=1, inplace=True)\n",
    "test_data.drop(['PassengerId', 'Name', 'Ticket', 'Cabin'], axis=1, inplace=True)\n"
   ]
  },
  {
   "cell_type": "code",
   "execution_count": 68,
   "id": "72015b99",
   "metadata": {},
   "outputs": [
    {
     "name": "stderr",
     "output_type": "stream",
     "text": [
      "C:\\Users\\husse\\AppData\\Local\\Temp\\ipykernel_18320\\2194788583.py:4: FutureWarning: A value is trying to be set on a copy of a DataFrame or Series through chained assignment using an inplace method.\n",
      "The behavior will change in pandas 3.0. This inplace method will never work because the intermediate object on which we are setting values always behaves as a copy.\n",
      "\n",
      "For example, when doing 'df[col].method(value, inplace=True)', try using 'df.method({col: value}, inplace=True)' or df[col] = df[col].method(value) instead, to perform the operation inplace on the original object.\n",
      "\n",
      "\n",
      "  train_data['Age'].fillna(train_data['Age'].median(), inplace=True)\n",
      "C:\\Users\\husse\\AppData\\Local\\Temp\\ipykernel_18320\\2194788583.py:5: FutureWarning: A value is trying to be set on a copy of a DataFrame or Series through chained assignment using an inplace method.\n",
      "The behavior will change in pandas 3.0. This inplace method will never work because the intermediate object on which we are setting values always behaves as a copy.\n",
      "\n",
      "For example, when doing 'df[col].method(value, inplace=True)', try using 'df.method({col: value}, inplace=True)' or df[col] = df[col].method(value) instead, to perform the operation inplace on the original object.\n",
      "\n",
      "\n",
      "  test_data['Age'].fillna(test_data['Age'].median(), inplace=True)\n",
      "C:\\Users\\husse\\AppData\\Local\\Temp\\ipykernel_18320\\2194788583.py:7: FutureWarning: A value is trying to be set on a copy of a DataFrame or Series through chained assignment using an inplace method.\n",
      "The behavior will change in pandas 3.0. This inplace method will never work because the intermediate object on which we are setting values always behaves as a copy.\n",
      "\n",
      "For example, when doing 'df[col].method(value, inplace=True)', try using 'df.method({col: value}, inplace=True)' or df[col] = df[col].method(value) instead, to perform the operation inplace on the original object.\n",
      "\n",
      "\n",
      "  train_data['Embarked'].fillna(train_data['Embarked'].mode()[0], inplace=True)\n",
      "C:\\Users\\husse\\AppData\\Local\\Temp\\ipykernel_18320\\2194788583.py:9: FutureWarning: A value is trying to be set on a copy of a DataFrame or Series through chained assignment using an inplace method.\n",
      "The behavior will change in pandas 3.0. This inplace method will never work because the intermediate object on which we are setting values always behaves as a copy.\n",
      "\n",
      "For example, when doing 'df[col].method(value, inplace=True)', try using 'df.method({col: value}, inplace=True)' or df[col] = df[col].method(value) instead, to perform the operation inplace on the original object.\n",
      "\n",
      "\n",
      "  test_data['Fare'].fillna(test_data['Fare'].median(), inplace=True)\n"
     ]
    }
   ],
   "source": [
    "#Handle missing values 🧐❓\n",
    "\n",
    "#Fill missing Age values with median\n",
    "train_data['Age'].fillna(train_data['Age'].median(), inplace=True)\n",
    "test_data['Age'].fillna(test_data['Age'].median(), inplace=True)\n",
    "#Fill missing Embarked values with mode\n",
    "train_data['Embarked'].fillna(train_data['Embarked'].mode()[0], inplace=True)\n",
    "#Fill missing Fare values with median\n",
    "test_data['Fare'].fillna(test_data['Fare'].median(), inplace=True)"
   ]
  },
  {
   "cell_type": "code",
   "execution_count": 69,
   "id": "88a989e2",
   "metadata": {},
   "outputs": [],
   "source": [
    "#Encode categorical variables\n",
    "label_encoder = LabelEncoder()\n",
    "\n",
    "train_data['Sex'] = label_encoder.fit_transform(train_data['Sex'])\n",
    "test_data['Sex'] = label_encoder.transform(test_data['Sex'])\n",
    "\n",
    "train_data['Embarked'] = label_encoder.fit_transform(train_data['Embarked'])\n",
    "test_data['Embarked'] = label_encoder.transform(test_data['Embarked'])"
   ]
  },
  {
   "cell_type": "markdown",
   "id": "f4c4d37e",
   "metadata": {},
   "source": [
    "Train/Test Split 🧪\n",
    "We split the training data into a training set and a validation set.\n",
    "This helps us evaluate how well our model is performing before testing on the final unseen test data.\n",
    "We use an 80/20 split using train_test_split from scikit-learn."
   ]
  },
  {
   "cell_type": "code",
   "execution_count": 70,
   "id": "d7091534",
   "metadata": {},
   "outputs": [],
   "source": [
    "#train/test split \n",
    "X = train_data.drop('Survived', axis=1)\n",
    "y = train_data['Survived']\n",
    "X_train, X_val, y_train, y_val = train_test_split(X, y, test_size=0.2, random_state=42)"
   ]
  },
  {
   "cell_type": "markdown",
   "id": "1e776c9d",
   "metadata": {},
   "source": [
    "Model Training 🤖\n",
    "We train a machine learning model using the cleaned training data.\n",
    "We will start with a Random Forest classifier due to its performance and simplicity.\n",
    "Other models like Logistic Regression or XGBoost can also be explored."
   ]
  },
  {
   "cell_type": "code",
   "execution_count": 71,
   "id": "5b7da083",
   "metadata": {},
   "outputs": [],
   "source": [
    "#Start Simple\n",
    "#Logistic Regression\n",
    "logistic_model = LogisticRegression()\n",
    "logistic_model.fit(X_train, y_train)    \n",
    "#Predict on validation set\n",
    "y_val_pred = logistic_model.predict(X_val)"
   ]
  },
  {
   "cell_type": "markdown",
   "id": "05b4aaa3",
   "metadata": {},
   "source": [
    "Model Evaluation 📈\n",
    "To evaluate model performance, we use:\n",
    "- Accuracy score\n",
    "- Confusion matrix\n",
    "- Precision, Recall, and F1-Score\n",
    "\n",
    "This tells us how well our model is doing on unseen validation data."
   ]
  },
  {
   "cell_type": "code",
   "execution_count": 72,
   "id": "a24f861b",
   "metadata": {},
   "outputs": [
    {
     "name": "stdout",
     "output_type": "stream",
     "text": [
      "Accuracy: 0.8100558659217877\n",
      "Confusion Matrix:\n",
      " [[90 15]\n",
      " [19 55]]\n",
      "Classification Report:\n",
      "               precision    recall  f1-score   support\n",
      "\n",
      "           0       0.83      0.86      0.84       105\n",
      "           1       0.79      0.74      0.76        74\n",
      "\n",
      "    accuracy                           0.81       179\n",
      "   macro avg       0.81      0.80      0.80       179\n",
      "weighted avg       0.81      0.81      0.81       179\n",
      "\n"
     ]
    }
   ],
   "source": [
    "#Accuracy and Evaluation\n",
    "print(\"Accuracy:\", accuracy_score(y_val, y_val_pred))\n",
    "#Confusion Matrix\n",
    "conf_matrix = confusion_matrix(y_val, y_val_pred)\n",
    "print(\"Confusion Matrix:\\n\", conf_matrix)\n",
    "#Classification Report\n",
    "class_report = classification_report(y_val, y_val_pred)\n",
    "print(\"Classification Report:\\n\", class_report)"
   ]
  },
  {
   "cell_type": "code",
   "execution_count": 73,
   "id": "faa331d2",
   "metadata": {},
   "outputs": [],
   "source": [
    "#Other models can be trained similarly, such as Random Forest or XGBoost.\n",
    "model = RandomForestClassifier()"
   ]
  },
  {
   "cell_type": "code",
   "execution_count": 74,
   "id": "a7a47bf1",
   "metadata": {},
   "outputs": [
    {
     "name": "stdout",
     "output_type": "stream",
     "text": [
      "Best Parameters: {'max_depth': 8, 'n_estimators': 100}\n"
     ]
    }
   ],
   "source": [
    "#Hyperparameter Tuning (Optional)\n",
    "params = {\n",
    "    'n_estimators': [50, 100],\n",
    "    'max_depth': [4, 6, 8],\n",
    "}\n",
    "# Create a grid search for hyperparameter tuning\n",
    "grid = GridSearchCV(RandomForestClassifier(), params, cv=5)\n",
    "# Fit the model\n",
    "grid.fit(X_train, y_train)\n",
    "#Best parameters\n",
    "print(\"Best Parameters:\", grid.best_params_)"
   ]
  },
  {
   "cell_type": "markdown",
   "id": "b57fd967",
   "metadata": {},
   "source": [
    "Final Predictions 🧾\n",
    "Now that we've trained and validated our model, we use it to make predictions on the test dataset.\n",
    "These predictions are then saved into a CSV file in the required submission format."
   ]
  },
  {
   "cell_type": "code",
   "execution_count": 75,
   "id": "4cb4be18",
   "metadata": {},
   "outputs": [
    {
     "name": "stdout",
     "output_type": "stream",
     "text": [
      "Submission file created: my_submission.csv\n"
     ]
    }
   ],
   "source": [
    "#Final Predictions on test.csv\n",
    "final_model = RandomForestClassifier()\n",
    "final_model.fit(X, y)\n",
    "#Predict on test set\n",
    "test_predictions = final_model.predict(test_data)\n",
    "#Example output\n",
    "submission = pd.read_csv('gender_submission.csv')\n",
    "submission['Survived'] = test_predictions\n",
    "submission.to_csv('my_submission.csv', index=False)\n",
    "print(\"Submission file created: my_submission.csv\")"
   ]
  },
  {
   "cell_type": "markdown",
   "id": "c4b8b2a3",
   "metadata": {},
   "source": [
    "Conclusion 🧠\n",
    "This Titanic project showed how to:\n",
    "- Load and clean real-world data\n",
    "- Explore features and handle missing values\n",
    "- Train and evaluate a machine learning model\n",
    "- Make predictions for unseen test data\n",
    "\n",
    "Key insights:\n",
    "- Female passengers had much higher survival rates.\n",
    "- Passengers in 1st class had a better chance of survival.\n",
    "- Children (younger age groups) also had higher survival rates.\n",
    "\n",
    "This project is a solid introduction to supervised learning and the end-to-end ML workflow."
   ]
  }
 ],
 "metadata": {
  "kernelspec": {
   "display_name": "Python 3 (ipykernel)",
   "language": "python",
   "name": "python3"
  },
  "language_info": {
   "codemirror_mode": {
    "name": "ipython",
    "version": 3
   },
   "file_extension": ".py",
   "mimetype": "text/x-python",
   "name": "python",
   "nbconvert_exporter": "python",
   "pygments_lexer": "ipython3",
   "version": "3.13.5"
  }
 },
 "nbformat": 4,
 "nbformat_minor": 5
}
